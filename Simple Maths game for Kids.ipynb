{
 "cells": [
  {
   "cell_type": "code",
   "execution_count": 2,
   "metadata": {},
   "outputs": [],
   "source": [
    "import random\n",
    "import operator"
   ]
  },
  {
   "cell_type": "code",
   "execution_count": null,
   "metadata": {},
   "outputs": [
    {
     "name": "stdout",
     "output_type": "stream",
     "text": [
      "MATH BRAIN TEASER FOR KIDS \n",
      "\n",
      " What is the value of 8 / 10?\n"
     ]
    }
   ],
   "source": [
    "def random_challenge():\n",
    "    operators = {\n",
    "        '+': operator.add,\n",
    "         '-': operator.sub,\n",
    "        '*': operator.mul,\n",
    "        '/': operator.truediv,\n",
    "    }\n",
    "    \n",
    "    num_1 = random.randint (0,10)\n",
    "    num_2 = random.randint (0,10)\n",
    "    operation = random.choice(list(operators.keys()))\n",
    "    answer = operators.get(operation)(num_1, num_2)\n",
    "    print(f' What is the value of {num_1} {operation} {num_2}?')\n",
    "    return answer\n",
    "\n",
    "\n",
    "def ask_question():\n",
    "    answer = random_challenge()\n",
    "    guess = float(input())\n",
    "    return guess == answer\n",
    "\n",
    "def game():\n",
    "    print ('MATH BRAIN TEASER FOR KIDS \\n')\n",
    "    score = 0\n",
    "    for i in range (20):\n",
    "        if ask_question() == True:\n",
    "            score +=1\n",
    "            print ('Correct')\n",
    "        else:\n",
    "                print ('Incorrect')\n",
    "                \n",
    "        print(f'Your score is {score}')\n",
    "                \n",
    "game()\n",
    "                \n",
    "               "
   ]
  },
  {
   "cell_type": "code",
   "execution_count": null,
   "metadata": {},
   "outputs": [],
   "source": []
  },
  {
   "cell_type": "code",
   "execution_count": null,
   "metadata": {},
   "outputs": [],
   "source": []
  }
 ],
 "metadata": {
  "kernelspec": {
   "display_name": "Python 3",
   "language": "python",
   "name": "python3"
  },
  "language_info": {
   "codemirror_mode": {
    "name": "ipython",
    "version": 3
   },
   "file_extension": ".py",
   "mimetype": "text/x-python",
   "name": "python",
   "nbconvert_exporter": "python",
   "pygments_lexer": "ipython3",
   "version": "3.7.6"
  }
 },
 "nbformat": 4,
 "nbformat_minor": 4
}
